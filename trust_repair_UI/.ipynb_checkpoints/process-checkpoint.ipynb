{
 "cells": [
  {
   "cell_type": "code",
   "execution_count": 67,
   "metadata": {},
   "outputs": [],
   "source": [
    "import redis\n",
    "\n",
    "db = redis.Redis(host= \"127.0.0.1\", port= 6379, db=0, charset=\"utf-8\", decode_responses=True)\n"
   ]
  },
  {
   "cell_type": "code",
   "execution_count": 98,
   "metadata": {},
   "outputs": [],
   "source": [
    "import pandas as pd"
   ]
  },
  {
   "cell_type": "code",
   "execution_count": 68,
   "metadata": {},
   "outputs": [],
   "source": [
    "# db.flushdb()"
   ]
  },
  {
   "cell_type": "code",
   "execution_count": 69,
   "metadata": {},
   "outputs": [],
   "source": [
    "# dc6d3996-8ab2-45a7-8716-a768fd44f676"
   ]
  },
  {
   "cell_type": "code",
   "execution_count": 115,
   "metadata": {},
   "outputs": [],
   "source": [
    "users_all = set()\n",
    "for e in db.keys():\n",
    "    if e.startswith(\"user\"):\n",
    "        users_all.add(e.split(\":\")[1])"
   ]
  },
  {
   "cell_type": "code",
   "execution_count": 127,
   "metadata": {},
   "outputs": [],
   "source": [
    "users_fail_quiz = set()\n",
    "task_record_df = pd.DataFrame()\n",
    "infosheetTime_record_df = pd.DataFrame()\n",
    "quizTime_record_df = pd.DataFrame()\n",
    "postsurvey_record_df = pd.DataFrame()\n",
    "\n",
    "\n",
    "\n",
    "for userUUID in users_all:\n",
    "    task_record_dict = dict()\n",
    "    infosheetTime_record_dict = dict()\n",
    "    quizTime_record_dict = dict()\n",
    "    postsurvey_record_dict = dict()\n",
    "\n",
    "    tmp_record = db.hgetall(\"user:\" + userUUID)\n",
    "    if (\"quizflag\" in tmp_record) and (tmp_record[\"quizflag\"] == \"fail\"):\n",
    "        users_fail_quiz.add(userUUID)\n",
    "        continue\n",
    "    else:\n",
    "        for k,v in tmp_record.items():\n",
    "            if k.startswith('taskPage'):\n",
    "                task_record_dict[k] = v\n",
    "            elif k.startswith('infoSheet'):\n",
    "                infosheetTime_record_dict[k] = v\n",
    "            elif k.startswith('quiz'):\n",
    "                quizTime_record_dict[k] = v\n",
    "            else:           # will be divided to post- and. pre- survey later\n",
    "                postsurvey_record_dict[k] = v\n",
    "        \n",
    "        tmp_task_record_df = pd.DataFrame.from_dict(task_record_dict, orient='index').T\n",
    "        tmp_infosheetTime_record_df = pd.DataFrame.from_dict(infosheetTime_record_dict, orient='index').T\n",
    "        tmp_quizTime_record_df = pd.DataFrame.from_dict(quizTime_record_dict, orient='index').T\n",
    "        tmp_postsurvey_record_df = pd.DataFrame.from_dict(postsurvey_record_dict, orient='index').T\n",
    "        \n",
    "        tmp_task_record_df['user_assignmentID'] = userUUID\n",
    "        tmp_infosheetTime_record_df['user_assignmentID'] = userUUID\n",
    "        tmp_quizTime_record_df['user_assignmentID'] = userUUID\n",
    "        tmp_postsurvey_record_df['user_assignmentID'] = userUUID\n",
    "\n",
    "    task_record_df = pd.concat([task_record_df,tmp_task_record_df], ignore_index=True) \n",
    "    infosheetTime_record_df = pd.concat([infosheetTime_record_df,tmp_infosheetTime_record_df], ignore_index=True) \n",
    "    quizTime_record_df = pd.concat([quizTime_record_df,tmp_quizTime_record_df], ignore_index=True) \n",
    "    postsurvey_record_df = pd.concat([postsurvey_record_df,tmp_postsurvey_record_df], ignore_index=True) \n",
    "\n",
    "    \n",
    "            \n",
    "                \n",
    "        \n",
    "        "
   ]
  },
  {
   "cell_type": "code",
   "execution_count": 129,
   "metadata": {},
   "outputs": [
    {
     "data": {
      "text/html": [
       "<div>\n",
       "<style scoped>\n",
       "    .dataframe tbody tr th:only-of-type {\n",
       "        vertical-align: middle;\n",
       "    }\n",
       "\n",
       "    .dataframe tbody tr th {\n",
       "        vertical-align: top;\n",
       "    }\n",
       "\n",
       "    .dataframe thead th {\n",
       "        text-align: right;\n",
       "    }\n",
       "</style>\n",
       "<table border=\"1\" class=\"dataframe\">\n",
       "  <thead>\n",
       "    <tr style=\"text-align: right;\">\n",
       "      <th></th>\n",
       "      <th>taskPage-1_time</th>\n",
       "      <th>taskPage-1_time_server</th>\n",
       "      <th>taskPage-1_startTime</th>\n",
       "      <th>taskPage-1_agreeModelBeforeXAITime</th>\n",
       "      <th>taskPage-1_disagreeModelBeforeXAITime</th>\n",
       "      <th>taskPage-1_showXAITime</th>\n",
       "      <th>taskPage-1_noshowXAITime</th>\n",
       "      <th>taskPage-1_agreeModelAfterXAITime</th>\n",
       "      <th>taskPage-1_disagreeModelAfterXAITime</th>\n",
       "      <th>taskPage-1_endTime</th>\n",
       "      <th>...</th>\n",
       "      <th>taskPage-2_userinput</th>\n",
       "      <th>taskPage-2_confidence</th>\n",
       "      <th>taskPage-2_submissionPhase</th>\n",
       "      <th>taskPage-2_vis</th>\n",
       "      <th>taskPage-2_initialAgreement</th>\n",
       "      <th>taskPage-2_finalAgreement</th>\n",
       "      <th>taskPage-2_seeXAI</th>\n",
       "      <th>taskPage-2_XAIhelp</th>\n",
       "      <th>taskPage-2_taskID</th>\n",
       "      <th>user_assignmentID</th>\n",
       "    </tr>\n",
       "  </thead>\n",
       "  <tbody>\n",
       "    <tr>\n",
       "      <th>0</th>\n",
       "      <td>7.621</td>\n",
       "      <td>7.857286214828491</td>\n",
       "      <td>Wed Feb 01 2023 20:10:27 GMT-0700 (Mountain St...</td>\n",
       "      <td>N/A</td>\n",
       "      <td>Wed Feb 01 2023 20:10:30 GMT-0700 (Mountain St...</td>\n",
       "      <td>N/A</td>\n",
       "      <td>Wed Feb 01 2023 20:10:31 GMT-0700 (Mountain St...</td>\n",
       "      <td>N/A</td>\n",
       "      <td>N/A</td>\n",
       "      <td>Wed Feb 01 2023 20:10:34 GMT-0700 (Mountain St...</td>\n",
       "      <td>...</td>\n",
       "      <td>[\"Gun\",\"Knife\",\"Scissors\"]</td>\n",
       "      <td>2</td>\n",
       "      <td>submitAfterXAIAgree_chat</td>\n",
       "      <td>similarInstances</td>\n",
       "      <td>disagree</td>\n",
       "      <td>agree</td>\n",
       "      <td>true</td>\n",
       "      <td>Yes</td>\n",
       "      <td>0</td>\n",
       "      <td>29ea72a1-6b7c-4467-9836-faa8ec122ee9</td>\n",
       "    </tr>\n",
       "    <tr>\n",
       "      <th>1</th>\n",
       "      <td>4.44</td>\n",
       "      <td>4.668959856033325</td>\n",
       "      <td>Wed Feb 01 2023 19:52:38 GMT-0700 (Mountain St...</td>\n",
       "      <td>Wed Feb 01 2023 19:52:40 GMT-0700 (Mountain St...</td>\n",
       "      <td>N/A</td>\n",
       "      <td>N/A</td>\n",
       "      <td>Wed Feb 01 2023 19:52:41 GMT-0700 (Mountain St...</td>\n",
       "      <td>N/A</td>\n",
       "      <td>N/A</td>\n",
       "      <td>Wed Feb 01 2023 19:52:43 GMT-0700 (Mountain St...</td>\n",
       "      <td>...</td>\n",
       "      <td>[\"Gun\",\"Knife\",\"Scissors\"]</td>\n",
       "      <td>5</td>\n",
       "      <td>submitAfterXAIAgree_chat</td>\n",
       "      <td>similarInstances</td>\n",
       "      <td>disagree</td>\n",
       "      <td>agree</td>\n",
       "      <td>true</td>\n",
       "      <td>No</td>\n",
       "      <td>0</td>\n",
       "      <td>dc6d3996-8ab2-45a7-8716-a768fd44f676</td>\n",
       "    </tr>\n",
       "  </tbody>\n",
       "</table>\n",
       "<p>2 rows × 39 columns</p>\n",
       "</div>"
      ],
      "text/plain": [
       "  taskPage-1_time taskPage-1_time_server  \\\n",
       "0           7.621      7.857286214828491   \n",
       "1            4.44      4.668959856033325   \n",
       "\n",
       "                                taskPage-1_startTime  \\\n",
       "0  Wed Feb 01 2023 20:10:27 GMT-0700 (Mountain St...   \n",
       "1  Wed Feb 01 2023 19:52:38 GMT-0700 (Mountain St...   \n",
       "\n",
       "                  taskPage-1_agreeModelBeforeXAITime  \\\n",
       "0                                                N/A   \n",
       "1  Wed Feb 01 2023 19:52:40 GMT-0700 (Mountain St...   \n",
       "\n",
       "               taskPage-1_disagreeModelBeforeXAITime taskPage-1_showXAITime  \\\n",
       "0  Wed Feb 01 2023 20:10:30 GMT-0700 (Mountain St...                    N/A   \n",
       "1                                                N/A                    N/A   \n",
       "\n",
       "                            taskPage-1_noshowXAITime  \\\n",
       "0  Wed Feb 01 2023 20:10:31 GMT-0700 (Mountain St...   \n",
       "1  Wed Feb 01 2023 19:52:41 GMT-0700 (Mountain St...   \n",
       "\n",
       "  taskPage-1_agreeModelAfterXAITime taskPage-1_disagreeModelAfterXAITime  \\\n",
       "0                               N/A                                  N/A   \n",
       "1                               N/A                                  N/A   \n",
       "\n",
       "                                  taskPage-1_endTime  ...  \\\n",
       "0  Wed Feb 01 2023 20:10:34 GMT-0700 (Mountain St...  ...   \n",
       "1  Wed Feb 01 2023 19:52:43 GMT-0700 (Mountain St...  ...   \n",
       "\n",
       "         taskPage-2_userinput taskPage-2_confidence  \\\n",
       "0  [\"Gun\",\"Knife\",\"Scissors\"]                     2   \n",
       "1  [\"Gun\",\"Knife\",\"Scissors\"]                     5   \n",
       "\n",
       "  taskPage-2_submissionPhase    taskPage-2_vis taskPage-2_initialAgreement  \\\n",
       "0   submitAfterXAIAgree_chat  similarInstances                    disagree   \n",
       "1   submitAfterXAIAgree_chat  similarInstances                    disagree   \n",
       "\n",
       "  taskPage-2_finalAgreement taskPage-2_seeXAI taskPage-2_XAIhelp  \\\n",
       "0                     agree              true                Yes   \n",
       "1                     agree              true                 No   \n",
       "\n",
       "  taskPage-2_taskID                     user_assignmentID  \n",
       "0                 0  29ea72a1-6b7c-4467-9836-faa8ec122ee9  \n",
       "1                 0  dc6d3996-8ab2-45a7-8716-a768fd44f676  \n",
       "\n",
       "[2 rows x 39 columns]"
      ]
     },
     "execution_count": 129,
     "metadata": {},
     "output_type": "execute_result"
    }
   ],
   "source": [
    "task_record_df"
   ]
  },
  {
   "cell_type": "code",
   "execution_count": null,
   "metadata": {},
   "outputs": [],
   "source": []
  },
  {
   "cell_type": "code",
   "execution_count": 83,
   "metadata": {},
   "outputs": [],
   "source": [
    "# db.smembers(\"user:dc6d3996-8ab2-45a7-8716-a768fd44f676:listkeys\")"
   ]
  },
  {
   "cell_type": "code",
   "execution_count": 93,
   "metadata": {
    "tags": []
   },
   "outputs": [],
   "source": [
    "tmp_record = db.hgetall(\"user:dc6d3996-8ab2-45a7-8716-a768fd44f676\")\n",
    "# tmp_record"
   ]
  },
  {
   "cell_type": "code",
   "execution_count": 94,
   "metadata": {},
   "outputs": [
    {
     "name": "stdout",
     "output_type": "stream",
     "text": [
      "taskPage-1_time ,  4.44\n",
      "taskPage-1_time_server ,  4.668959856033325\n",
      "taskPage-1_startTime ,  Wed Feb 01 2023 19:52:38 GMT-0700 (Mountain Standard Time)\n",
      "taskPage-1_agreeModelBeforeXAITime ,  Wed Feb 01 2023 19:52:40 GMT-0700 (Mountain Standard Time)\n",
      "taskPage-1_disagreeModelBeforeXAITime ,  N/A\n",
      "taskPage-1_showXAITime ,  N/A\n",
      "taskPage-1_noshowXAITime ,  Wed Feb 01 2023 19:52:41 GMT-0700 (Mountain Standard Time)\n",
      "taskPage-1_agreeModelAfterXAITime ,  N/A\n",
      "taskPage-1_disagreeModelAfterXAITime ,  N/A\n",
      "taskPage-1_endTime ,  Wed Feb 01 2023 19:52:43 GMT-0700 (Mountain Standard Time)\n",
      "taskPage-1_userinput ,  [\"Gun\",\"Knife\",\"Scissors\"]\n",
      "taskPage-1_confidence ,  5\n",
      "taskPage-1_submissionPhase ,  submitBeforeXAIAgree_chat\n",
      "taskPage-1_vis ,  similarInstances\n",
      "taskPage-1_initialAgreement ,  agree\n",
      "taskPage-1_finalAgreement ,  agree\n",
      "taskPage-1_seeXAI ,  false\n",
      "taskPage-1_XAIhelp ,  N/A\n",
      "taskPage-1_taskID ,  0\n",
      "taskPage-2_time ,  5.299\n",
      "taskPage-2_time_server ,  5.406532049179077\n",
      "taskPage-2_startTime ,  Wed Feb 01 2023 19:52:43 GMT-0700 (Mountain Standard Time)\n",
      "taskPage-2_agreeModelBeforeXAITime ,  N/A\n",
      "taskPage-2_disagreeModelBeforeXAITime ,  Wed Feb 01 2023 19:52:43 GMT-0700 (Mountain Standard Time)\n",
      "taskPage-2_showXAITime ,  Wed Feb 01 2023 19:52:44 GMT-0700 (Mountain Standard Time)\n",
      "taskPage-2_noshowXAITime ,  N/A\n",
      "taskPage-2_agreeModelAfterXAITime ,  Wed Feb 01 2023 19:52:46 GMT-0700 (Mountain Standard Time)\n",
      "taskPage-2_disagreeModelAfterXAITime ,  N/A\n",
      "taskPage-2_endTime ,  Wed Feb 01 2023 19:52:48 GMT-0700 (Mountain Standard Time)\n",
      "taskPage-2_userinput ,  [\"Gun\",\"Knife\",\"Scissors\"]\n",
      "taskPage-2_confidence ,  5\n",
      "taskPage-2_submissionPhase ,  submitAfterXAIAgree_chat\n",
      "taskPage-2_vis ,  similarInstances\n",
      "taskPage-2_initialAgreement ,  disagree\n",
      "taskPage-2_finalAgreement ,  agree\n",
      "taskPage-2_seeXAI ,  true\n",
      "taskPage-2_XAIhelp ,  No\n",
      "taskPage-2_taskID ,  0\n"
     ]
    }
   ],
   "source": [
    "# trustrepair will be changed to 'taskPage' later\n",
    "\n",
    "for k,v in tmp_record.items():\n",
    "    if k.startswith('taskPage'):\n",
    "        print(k, \", \", v)"
   ]
  },
  {
   "cell_type": "code",
   "execution_count": 95,
   "metadata": {},
   "outputs": [
    {
     "name": "stdout",
     "output_type": "stream",
     "text": [
      "infoSheet_time ,  2.776\n",
      "infoSheet_time_server ,  2.952314853668213\n",
      "infoSheet_startTime ,  Wed Feb 01 2023 19:52:17 GMT-0700 (Mountain Standard Time)\n",
      "infoSheet_agreeModelBeforeXAITime ,  N/A\n",
      "infoSheet_disagreeModelBeforeXAITime ,  N/A\n",
      "infoSheet_showXAITime ,  N/A\n",
      "infoSheet_noshowXAITime ,  N/A\n",
      "infoSheet_agreeModelAfterXAITime ,  N/A\n",
      "infoSheet_disagreeModelAfterXAITime ,  N/A\n",
      "infoSheet_endTime ,  Wed Feb 01 2023 19:52:19 GMT-0700 (Mountain Standard Time)\n"
     ]
    }
   ],
   "source": [
    "for k,v in tmp_record.items():\n",
    "    if k.startswith('infoSheet'):\n",
    "        print(k, \", \", v)"
   ]
  },
  {
   "cell_type": "code",
   "execution_count": 96,
   "metadata": {},
   "outputs": [
    {
     "name": "stdout",
     "output_type": "stream",
     "text": [
      "quiz_time ,  18.454\n",
      "quiz_time_server ,  18.539968967437744\n",
      "quiz_startTime ,  Wed Feb 01 2023 19:52:20 GMT-0700 (Mountain Standard Time)\n",
      "quiz_agreeModelBeforeXAITime ,  N/A\n",
      "quiz_disagreeModelBeforeXAITime ,  N/A\n",
      "quiz_showXAITime ,  N/A\n",
      "quiz_noshowXAITime ,  N/A\n",
      "quiz_agreeModelAfterXAITime ,  N/A\n",
      "quiz_disagreeModelAfterXAITime ,  N/A\n",
      "quiz_endTime ,  Wed Feb 01 2023 19:52:38 GMT-0700 (Mountain Standard Time)\n"
     ]
    }
   ],
   "source": [
    "for k,v in tmp_record.items():\n",
    "    if k.startswith('quiz'):\n",
    "        print(k, \", \", v)"
   ]
  },
  {
   "cell_type": "code",
   "execution_count": 97,
   "metadata": {},
   "outputs": [
    {
     "name": "stdout",
     "output_type": "stream",
     "text": [
      "postSurvey_time ,  37.958\n",
      "postSurvey_time_server ,  38.058552742004395\n",
      "postSurvey_startTime ,  Wed Feb 01 2023 19:52:48 GMT-0700 (Mountain Standard Time)\n",
      "postSurvey_agreeModelBeforeXAITime ,  N/A\n",
      "postSurvey_disagreeModelBeforeXAITime ,  N/A\n",
      "postSurvey_showXAITime ,  N/A\n",
      "postSurvey_noshowXAITime ,  N/A\n",
      "postSurvey_agreeModelAfterXAITime ,  N/A\n",
      "postSurvey_disagreeModelAfterXAITime ,  N/A\n",
      "postSurvey_endTime ,  Wed Feb 01 2023 19:53:26 GMT-0700 (Mountain Standard Time)\n",
      "surveytime ,  10.185\n",
      "trust_reliable ,  7\n",
      "trust_security ,  7\n",
      "trust_deceptive ,  7\n",
      "trust_dependable ,  7\n",
      "trust_outputs ,  7\n",
      "trust_integrity ,  7\n",
      "trust_model ,  7\n",
      "trust_wary ,  7\n",
      "trust_familar ,  7\n",
      "trust_harmful ,  7\n",
      "trust_confident ,  7\n",
      "trust_underhanded ,  7\n",
      "risk_fun ,  5\n",
      "risk_friends ,  5\n",
      "risk_enjoy ,  5\n",
      "risk_hurt ,  5\n",
      "risk_important ,  5\n",
      "risk_decision ,  5\n",
      "risk_believer ,  5\n",
      "risk_attracted ,  5\n",
      "Age ,  45\n",
      "Gender ,  Male\n",
      "Gendertxt ,  \n",
      "Education ,  MS\n",
      "Educationtxt ,  \n",
      "Check ,  3\n",
      "Platform ,  Unix\n",
      "Platformtxt ,  \n",
      "Browser ,  Other\n",
      "Browsertxt ,  asdf\n",
      "Device ,  TABLET\n",
      "Devicetxt ,  dfs\n",
      "Skill ,  3\n",
      "Comments ,  hi comment\n"
     ]
    }
   ],
   "source": [
    "# trustrepair will be changed to 'taskPage' later\n",
    "for k,v in tmp_record.items():\n",
    "    if (not k.startswith('quiz') and not k.startswith('infoSheet') and not k.startswith('taskPage')):\n",
    "        print(k, \", \", v)"
   ]
  },
  {
   "cell_type": "code",
   "execution_count": null,
   "metadata": {},
   "outputs": [],
   "source": []
  },
  {
   "cell_type": "code",
   "execution_count": null,
   "metadata": {},
   "outputs": [],
   "source": []
  }
 ],
 "metadata": {
  "kernelspec": {
   "display_name": "Python 3 (ipykernel)",
   "language": "python",
   "name": "python3"
  },
  "language_info": {
   "codemirror_mode": {
    "name": "ipython",
    "version": 3
   },
   "file_extension": ".py",
   "mimetype": "text/x-python",
   "name": "python",
   "nbconvert_exporter": "python",
   "pygments_lexer": "ipython3",
   "version": "3.7.9"
  }
 },
 "nbformat": 4,
 "nbformat_minor": 4
}
